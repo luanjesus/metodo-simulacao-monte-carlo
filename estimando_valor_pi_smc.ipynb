{
  "nbformat": 4,
  "nbformat_minor": 0,
  "metadata": {
    "colab": {
      "name": "estimando_valor_pi_smc.ipynb",
      "provenance": [],
      "authorship_tag": "ABX9TyP4B588lJt4Q7LVSHEqg7uI",
      "include_colab_link": true
    },
    "kernelspec": {
      "name": "python3",
      "display_name": "Python 3"
    },
    "language_info": {
      "name": "python"
    }
  },
  "cells": [
    {
      "cell_type": "markdown",
      "metadata": {
        "id": "view-in-github",
        "colab_type": "text"
      },
      "source": [
        "<a href=\"https://colab.research.google.com/github/luanjesus/metodo-simulacao-monte-carlo/blob/main/estimando_valor_pi_smc.ipynb\" target=\"_parent\"><img src=\"https://colab.research.google.com/assets/colab-badge.svg\" alt=\"Open In Colab\"/></a>"
      ]
    },
    {
      "cell_type": "markdown",
      "source": [
        "#Aplicando Simulações de Monte Carlo para estimar o valor de π\n",
        "\n",
        "\n",
        "Iremos utilizar o cálculo para a estimativa da constante π, pois, este é um valor conhecido. Com isso, o entendimento da aplicação do MSMC é facilitado, além de ser demonstrado que a técnica realmente funciona.\n",
        "\n",
        "$π$ é um valor irracional e que tende ao infinito (3,1415926...), possui o valor aproximado 3,14. Este valor pode ser gerado através da área de uma circunferência. Tomando como base algumas definições, que serão apresentados na seqüência, é possível definir uma função das distribuições de probabilidade  para se calcular uma aproximação de $π$ através da SMC. \n",
        "\n",
        "## Definições para a FDP\n",
        "\n",
        "* Área da Circunferência: $A= πr^2$, sendo r o raio;\n",
        "* Quando o raio é unitário, isto é, quando $r=1$, a área é igual ao valor da\n",
        "constante $π$;\n",
        "* Os pontos aleatórios devem estar dentro de um vetor $P(x,y)$;\n",
        "* A FDP deve verificar se os pontos estão dentro ou fora da circunferência;\n",
        "* Para verificar se um ponto está dentro da circunferência usa-se $x^2+y^2= r^2$;\n",
        "* Se o raio for unitário; então, $x^2+y^2= 1$;\n",
        "* Para facilitar a verificação dos valores que estão dentro ou fora da\n",
        "circunferência, devemos inseri-la dentro de outra figura geométrica. Neste caso,\n",
        "será utilizado o quadro, pois é a figura mais fácil de trabalhar.\n",
        "* **Dentro do círculo:** $P(x,y) = P\\{x^2+y^2 ≤ 1\\}$;\n",
        "* **Fora do círculo:** $P(x,y) = \\frac{π}{4}$.\n",
        "\n",
        "Sendo assim, ao gerar vários pontos aleatórios no quadrado, a proporcionalidade\n",
        "dos valores que caem dentro do círculo será π/4. Como x e y são variáveis independentes e distribuídos uniformemente no intervalo (-1,1), sua função das distribuições probabilísticas pode ser considerada como:\n",
        "\n",
        "\n",
        "\n",
        "\n",
        "> $P(x,y) = P(x) . P(y)$\n",
        ">\n",
        ">$P(x,y) = \\frac{1}{2} * \\frac{1}{2} = \\frac{1}{4}$\n",
        ">\n",
        ">**Intervalo de x:** $-1\\le x\\le 1$ (disperção no eixo x)\n",
        ">\n",
        ">**Intervalo de y:** $-1\\le y\\le 1$ (disperção no eixo y)\n",
        "\n",
        "Como $P(x,y)$ é constante no quadrado, segue da definição que\n",
        "$(x,y)$ é distribuída uniformemente no quadrado. E tomando como base que o cálculo de um valor esperado $θ$ é igual a $E$. Então,\n",
        "\n",
        "> $E(x,y) = P\\{x^2+y^2 \\le 1\\} = \\frac{π}{4}$\n",
        "\n",
        ">$π = P\\{x^2+y^2 \\le 1 \\} * 4$"
      ],
      "metadata": {
        "id": "lnhcVIXRJ-R5"
      }
    },
    {
      "cell_type": "markdown",
      "source": [
        "## Implementação do Código\n",
        "\n",
        "1. Imports das bibliotecas\n",
        "2. Funções \n",
        "    * **plotar_dispersao**: Gera um gráfico scatter com as distribuições dos pontos que estão dentro e fora da circunferência.\n",
        "    * **estimar_pi**: Gera a simulação de Monte Carlo com a quantidade de vezes informada. \n",
        "    * **gerar_tabela_valores_pi**: Gera uma tabela com a relação das simulações, valores estimados e taxa de erro do valor real.\n"
      ],
      "metadata": {
        "id": "8cJRtHCXVMo8"
      }
    },
    {
      "cell_type": "code",
      "execution_count": 125,
      "metadata": {
        "id": "gimDoc0tJhXg"
      },
      "outputs": [],
      "source": [
        "import numpy as np\n",
        "import pandas as pd\n",
        "import matplotlib.pyplot as plt\n",
        "%matplotlib inline"
      ]
    },
    {
      "cell_type": "code",
      "source": [
        "def plotar_dispersao(x,y,dentro_circulo):\n",
        "    \n",
        "    fig = plt.figure(figsize=(10, 10))\n",
        "    ax1 = fig.add_subplot(121)\n",
        "    \n",
        "    col=[]\n",
        "    for i in range(0,len(x)):\n",
        "        if dentro_circulo[i] == True:\n",
        "            col.append('red')\n",
        "        else:\n",
        "            col.append('blue')\n",
        "    for i in range(len(x)):\n",
        "        plt.scatter(x[i],y[i],color=col[i],s=10, linewidth=0)\n",
        "    ax1.set_aspect(1./ax1.get_data_ratio()) \n",
        "    plt.show()\n",
        "\n",
        "\n",
        "def estimar_pi(numero_simulacaoes, dispersao):\n",
        "    pi_real = 3.141592\n",
        "    x = np.random.uniform(low=-dispersao, high=dispersao, size=(numero_simulacaoes,))\n",
        "    y = np.random.uniform(low=-dispersao, high=dispersao, size=(numero_simulacaoes,))\n",
        "\n",
        "    dentro_circulo = x**2 + y**2 <= dispersao**2\n",
        "    pi_monte_carlo = (sum(dentro_circulo)/numero_simulacaoes)*4\n",
        "    \n",
        "    diferenca = np.absolute(pi_monte_carlo - pi_real)\n",
        "    if(numero_simulacaoes == 1000):\n",
        "      print('Dispersão dos pontos em uma simulação com 1000 repetições')\n",
        "      plotar_dispersao(x,y,dentro_circulo)\n",
        "\n",
        "    return {'Simulacoes': numero_simulacaoes,'Valor Estimado':pi_monte_carlo,'Taxa de Acerto % (3,14)':(1-diferenca)*100}\n",
        "\n",
        "def gerar_tabela_valores_pi(lista_simulacao):\n",
        "  estimados = []\n",
        "  for i in lista_simulacao:\n",
        "    estimados.append(estimar_pi(i,1))\n",
        "  df_estimados = pd.DataFrame(estimados)\n",
        "  return df_estimados"
      ],
      "metadata": {
        "id": "1kx3czgJM5Sq"
      },
      "execution_count": 136,
      "outputs": []
    },
    {
      "cell_type": "code",
      "source": [
        "lista_simulacao = [10, 100, 1000, 10000, 100000]\n"
      ],
      "metadata": {
        "id": "zUfwqFdSSV6U"
      },
      "execution_count": 137,
      "outputs": []
    },
    {
      "cell_type": "code",
      "source": [
        "df_estimados = gerar_tabela_valores_pi(lista_simulacao)\n",
        "df_estimados"
      ],
      "metadata": {
        "colab": {
          "base_uri": "https://localhost:8080/",
          "height": 509
        },
        "id": "epWjAQGxT8Zr",
        "outputId": "78feae4a-3bfe-434c-9c0a-012522bdb4ce"
      },
      "execution_count": 138,
      "outputs": [
        {
          "output_type": "stream",
          "name": "stdout",
          "text": [
            "Dispersão dos pontos em uma simulação com 1000 repetições\n"
          ]
        },
        {
          "output_type": "display_data",
          "data": {
            "image/png": "[encoded data removed]",
            "text/plain": [
              "<Figure size 720x720 with 1 Axes>"
            ]
          },
          "metadata": {
            "needs_background": "light"
          }
        },
        {
          "output_type": "execute_result",
          "data": {
            "text/html": [
              "\n",
              "  <div id=\"df-5c34a4af-eb4c-463a-b2bd-00d89435ae36\">\n",
              "    <div class=\"colab-df-container\">\n",
              "      <div>\n",
              "<style scoped>\n",
              "    .dataframe tbody tr th:only-of-type {\n",
              "        vertical-align: middle;\n",
              "    }\n",
              "\n",
              "    .dataframe tbody tr th {\n",
              "        vertical-align: top;\n",
              "    }\n",
              "\n",
              "    .dataframe thead th {\n",
              "        text-align: right;\n",
              "    }\n",
              "</style>\n",
              "<table border=\"1\" class=\"dataframe\">\n",
              "  <thead>\n",
              "    <tr style=\"text-align: right;\">\n",
              "      <th></th>\n",
              "      <th>Simulacoes</th>\n",
              "      <th>Valor Estimado</th>\n",
              "      <th>Taxa de Acerto % (3,14)</th>\n",
              "    </tr>\n",
              "  </thead>\n",
              "  <tbody>\n",
              "    <tr>\n",
              "      <th>0</th>\n",
              "      <td>10</td>\n",
              "      <td>2.80000</td>\n",
              "      <td>65.8408</td>\n",
              "    </tr>\n",
              "    <tr>\n",
              "      <th>1</th>\n",
              "      <td>100</td>\n",
              "      <td>2.88000</td>\n",
              "      <td>73.8408</td>\n",
              "    </tr>\n",
              "    <tr>\n",
              "      <th>2</th>\n",
              "      <td>1000</td>\n",
              "      <td>3.11200</td>\n",
              "      <td>97.0408</td>\n",
              "    </tr>\n",
              "    <tr>\n",
              "      <th>3</th>\n",
              "      <td>10000</td>\n",
              "      <td>3.15760</td>\n",
              "      <td>98.3992</td>\n",
              "    </tr>\n",
              "    <tr>\n",
              "      <th>4</th>\n",
              "      <td>100000</td>\n",
              "      <td>3.14104</td>\n",
              "      <td>99.9448</td>\n",
              "    </tr>\n",
              "  </tbody>\n",
              "</table>\n",
              "</div>\n",
              "      <button class=\"colab-df-convert\" onclick=\"convertToInteractive('df-5c34a4af-eb4c-463a-b2bd-00d89435ae36')\"\n",
              "              title=\"Convert this dataframe to an interactive table.\"\n",
              "              style=\"display:none;\">\n",
              "        \n",
              "  <svg xmlns=\"http://www.w3.org/2000/svg\" height=\"24px\"viewBox=\"0 0 24 24\"\n",
              "       width=\"24px\">\n",
              "    <path d=\"M0 0h24v24H0V0z\" fill=\"none\"/>\n",
              "    <path d=\"M18.56 5.44l.94 2.06.94-2.06 2.06-.94-2.06-.94-.94-2.06-.94 2.06-2.06.94zm-11 1L8.5 8.5l.94-2.06 2.06-.94-2.06-.94L8.5 2.5l-.94 2.06-2.06.94zm10 10l.94 2.06.94-2.06 2.06-.94-2.06-.94-.94-2.06-.94 2.06-2.06.94z\"/><path d=\"M17.41 7.96l-1.37-1.37c-.4-.4-.92-.59-1.43-.59-.52 0-1.04.2-1.43.59L10.3 9.45l-7.72 7.72c-.78.78-.78 2.05 0 2.83L4 21.41c.39.39.9.59 1.41.59.51 0 1.02-.2 1.41-.59l7.78-7.78 2.81-2.81c.8-.78.8-2.07 0-2.86zM5.41 20L4 18.59l7.72-7.72 1.47 1.35L5.41 20z\"/>\n",
              "  </svg>\n",
              "      </button>\n",
              "      \n",
              "  <style>\n",
              "    .colab-df-container {\n",
              "      display:flex;\n",
              "      flex-wrap:wrap;\n",
              "      gap: 12px;\n",
              "    }\n",
              "\n",
              "    .colab-df-convert {\n",
              "      background-color: #E8F0FE;\n",
              "      border: none;\n",
              "      border-radius: 50%;\n",
              "      cursor: pointer;\n",
              "      display: none;\n",
              "      fill: #1967D2;\n",
              "      height: 32px;\n",
              "      padding: 0 0 0 0;\n",
              "      width: 32px;\n",
              "    }\n",
              "\n",
              "    .colab-df-convert:hover {\n",
              "      background-color: #E2EBFA;\n",
              "      box-shadow: 0px 1px 2px rgba(60, 64, 67, 0.3), 0px 1px 3px 1px rgba(60, 64, 67, 0.15);\n",
              "      fill: #174EA6;\n",
              "    }\n",
              "\n",
              "    [theme=dark] .colab-df-convert {\n",
              "      background-color: #3B4455;\n",
              "      fill: #D2E3FC;\n",
              "    }\n",
              "\n",
              "    [theme=dark] .colab-df-convert:hover {\n",
              "      background-color: #434B5C;\n",
              "      box-shadow: 0px 1px 3px 1px rgba(0, 0, 0, 0.15);\n",
              "      filter: drop-shadow(0px 1px 2px rgba(0, 0, 0, 0.3));\n",
              "      fill: #FFFFFF;\n",
              "    }\n",
              "  </style>\n",
              "\n",
              "      <script>\n",
              "        const buttonEl =\n",
              "          document.querySelector('#df-5c34a4af-eb4c-463a-b2bd-00d89435ae36 button.colab-df-convert');\n",
              "        buttonEl.style.display =\n",
              "          google.colab.kernel.accessAllowed ? 'block' : 'none';\n",
              "\n",
              "        async function convertToInteractive(key) {\n",
              "          const element = document.querySelector('#df-5c34a4af-eb4c-463a-b2bd-00d89435ae36');\n",
              "          const dataTable =\n",
              "            await google.colab.kernel.invokeFunction('convertToInteractive',\n",
              "                                                     [key], {});\n",
              "          if (!dataTable) return;\n",
              "\n",
              "          const docLinkHtml = 'Like what you see? Visit the ' +\n",
              "            '<a target=\"_blank\" href=https://colab.research.google.com/notebooks/data_table.ipynb>data table notebook</a>'\n",
              "            + ' to learn more about interactive tables.';\n",
              "          element.innerHTML = '';\n",
              "          dataTable['output_type'] = 'display_data';\n",
              "          await google.colab.output.renderOutput(dataTable, element);\n",
              "          const docLink = document.createElement('div');\n",
              "          docLink.innerHTML = docLinkHtml;\n",
              "          element.appendChild(docLink);\n",
              "        }\n",
              "      </script>\n",
              "    </div>\n",
              "  </div>\n",
              "  "
            ],
            "text/plain": [
              "   Simulacoes  Valor Estimado  Taxa de Acerto % (3,14)\n",
              "0          10         2.80000                  65.8408\n",
              "1         100         2.88000                  73.8408\n",
              "2        1000         3.11200                  97.0408\n",
              "3       10000         3.15760                  98.3992\n",
              "4      100000         3.14104                  99.9448"
            ]
          },
          "metadata": {},
          "execution_count": 138
        }
      ]
    }
  ]
}